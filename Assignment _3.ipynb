{
 "cells": [
  {
   "cell_type": "code",
   "execution_count": 15,
   "id": "055b92dd",
   "metadata": {},
   "outputs": [
    {
     "name": "stdout",
     "output_type": "stream",
     "text": [
      "Twinkle, twinkle, little star, \n",
      "        How I wonder what you are!\n",
      "                Up above the world so high,\n",
      "                Like a diamond in the sky. \n",
      "Twinkle, twinkle, little star,\n",
      "        How I wonder what you are!      \n"
     ]
    }
   ],
   "source": [
    "# 1 Twinkle, twinkle, little star,\n",
    "\n",
    "# How I wonder what you are!\n",
    "\n",
    "# Up above the world so high,\n",
    "# Like a diamond in the sky.\n",
    "\n",
    "# Twinkle, twinkle, little star,\n",
    "\n",
    "# How I wonder what you are \n",
    "\n",
    "\n",
    "print(\"Twinkle, twinkle, little star, \\n        How I wonder what you are!\\n                Up above the world so high,\\n                Like a diamond in the sky. \\nTwinkle, twinkle, little star,\\n        How I wonder what you are!      \");"
   ]
  },
  {
   "cell_type": "code",
   "execution_count": 14,
   "id": "85581344",
   "metadata": {},
   "outputs": [
    {
     "name": "stdout",
     "output_type": "stream",
     "text": [
      "3.8.8\n"
     ]
    }
   ],
   "source": [
    "#  2. Write a Python program to get the Python version you are using\n",
    " \n",
    "\n",
    "from platform import python_version\n",
    "\n",
    "print(python_version())"
   ]
  },
  {
   "cell_type": "code",
   "execution_count": 20,
   "id": "44da376c",
   "metadata": {},
   "outputs": [
    {
     "name": "stdout",
     "output_type": "stream",
     "text": [
      "Today's date: 2021-10-24\n",
      "Current date and time = 2021-10-24 17:32:35.870129\n"
     ]
    }
   ],
   "source": [
    "# 3. Write a Python program to display the current date and time.\n",
    " \n",
    "\n",
    "from datetime import date \n",
    "import datetime\n",
    "today = date.today()\n",
    "print(\"Today's date:\", today)\n",
    "\n",
    "\n",
    "e = datetime.datetime.now()\n",
    "print (\"Current date and time = %s\" % e)"
   ]
  },
  {
   "cell_type": "code",
   "execution_count": 22,
   "id": "1dbdec21",
   "metadata": {},
   "outputs": [
    {
     "name": "stdout",
     "output_type": "stream",
     "text": [
      "Enter radius: 5\n",
      "27.250000000000004\n"
     ]
    }
   ],
   "source": [
    "# 4. Write a Python program which accepts the radius of a circle from the user and compute\n",
    "#     the area.\n",
    "\n",
    "radius = int(input(\"Enter radius: \"));\n",
    "area = 0.5* 2.18 * radius**2;\n",
    "print(area);"
   ]
  },
  {
   "cell_type": "code",
   "execution_count": 24,
   "id": "3334b1a4",
   "metadata": {},
   "outputs": [
    {
     "name": "stdout",
     "output_type": "stream",
     "text": [
      "Enter your first name: Asim\n",
      "Enter your last name: Abdulrazzaq\n",
      "Abdulrazzaq Asim\n"
     ]
    }
   ],
   "source": [
    "#5. Write a Python program which accepts the user's first and last name and print them in\n",
    "#    reverse order with a space between them. \n",
    "first_name = input(\"Enter your first name: \");\n",
    "last_name = input(\"Enter your last name: \");\n",
    "print(last_name +\" \"+ first_name);"
   ]
  },
  {
   "cell_type": "code",
   "execution_count": 25,
   "id": "858ab1e4",
   "metadata": {},
   "outputs": [
    {
     "name": "stdout",
     "output_type": "stream",
     "text": [
      "Enter first Number: 45\n",
      "Enter second number: 45\n",
      "90\n"
     ]
    }
   ],
   "source": [
    "# 6. Write a python program which takes two inputs from user and print them addition\n",
    "\n",
    "one = int(input(\"Enter first Number: \"));\n",
    "two = int(input(\"Enter second number: \"));\n",
    "print(\"Your given number is: \"+one + two);"
   ]
  },
  {
   "cell_type": "code",
   "execution_count": null,
   "id": "1005a774",
   "metadata": {},
   "outputs": [],
   "source": [
    "# 7. Write a program which takes 5 inputs from user for different subject’s marks, total it\n",
    "#     and generate mark sheet using grades ?\n",
    "\n",
    "Urdu = int(input(\"Enter Urdu Marks: \")); \n",
    "English = int(input(\"Enter English Marks: \"));\n",
    "Islamiyat = int(input(\"Enter Islamiyat Marks: \"));\n",
    "Physics = int(input(\"Enter Physics Marks: \"));\n",
    "Chemistry = int(input(\"Enter Chemistry Marks: \"));\n",
    "Sum = Urdu+ English + Islamiyat + Physics + Chemistry;\n",
    "print( Sum);\n",
    "        percent = (Sum / 500) * 100;\n",
    "        print ( percent);\n",
    "    \n",
    "    if Urdu <= 100 and English <= 100 and Islamiyat <= 100 and Physics <= 100 and Chemistry <= 100:\n",
    "        if percent <= 100 and percent >= 90:\n",
    "            print(\"A+ Grade.\");\n",
    "        elif percent <= 89 and percent >= 80:\n",
    "        print(\"A Grade.\");\n",
    "        elif percent <= 79 and percent >= 70:\n",
    "            print(\"B+ Grade\");\n",
    "            elif percent <= 69 and percent >= 60:\n",
    "                print(\"B Grade\");\n",
    "            elif percent <= 59 and percent >=50:\n",
    "                print(\"C Grade\");\n",
    "            elif percent <=49 and percent >= 40:\n",
    "                print(\"D Grade\");\n",
    "                elif percent <= 39 and percent >=33:\n",
    "                    print(\"E Grade\");\n",
    "                    else: print(\"Fale\");\n",
    "    else: Print(\"Invalid Values!...\");\n",
    "\n",
    "\n",
    "\n",
    "\n",
    "\n",
    "\n",
    "\n",
    "\n",
    "\n"
   ]
  },
  {
   "cell_type": "code",
   "execution_count": null,
   "id": "66cf2137",
   "metadata": {},
   "outputs": [],
   "source": [
    "#8. Write a program which take input from user and identify that the given number is even\n",
    "#    or odd? \n",
    "\n",
    "data1 = int(input(\"Enter any 1st Number: \"));\n",
    "\n",
    "if data1 % 2 == 0:\n",
    "    print(\"Nuber is Even.\");\n",
    "else: \n",
    "     print(\"Number is Odd.\");"
   ]
  },
  {
   "cell_type": "code",
   "execution_count": null,
   "id": "499514f6",
   "metadata": {},
   "outputs": [],
   "source": []
  },
  {
   "cell_type": "code",
   "execution_count": null,
   "id": "cde3f2ce",
   "metadata": {},
   "outputs": [],
   "source": []
  },
  {
   "cell_type": "code",
   "execution_count": null,
   "id": "9ddaf1a3",
   "metadata": {},
   "outputs": [],
   "source": []
  },
  {
   "cell_type": "code",
   "execution_count": null,
   "id": "0bc870bf",
   "metadata": {},
   "outputs": [],
   "source": []
  },
  {
   "cell_type": "code",
   "execution_count": null,
   "id": "585a1538",
   "metadata": {},
   "outputs": [],
   "source": []
  },
  {
   "cell_type": "code",
   "execution_count": null,
   "id": "d04bece3",
   "metadata": {},
   "outputs": [],
   "source": []
  },
  {
   "cell_type": "code",
   "execution_count": null,
   "id": "64b1c74e",
   "metadata": {},
   "outputs": [],
   "source": []
  },
  {
   "cell_type": "code",
   "execution_count": null,
   "id": "1b71dd61",
   "metadata": {},
   "outputs": [],
   "source": []
  }
 ],
 "metadata": {
  "kernelspec": {
   "display_name": "Python 3",
   "language": "python",
   "name": "python3"
  },
  "language_info": {
   "codemirror_mode": {
    "name": "ipython",
    "version": 3
   },
   "file_extension": ".py",
   "mimetype": "text/x-python",
   "name": "python",
   "nbconvert_exporter": "python",
   "pygments_lexer": "ipython3",
   "version": "3.8.8"
  }
 },
 "nbformat": 4,
 "nbformat_minor": 5
}
